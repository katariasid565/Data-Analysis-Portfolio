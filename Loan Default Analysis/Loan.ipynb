{
 "cells": [
  {
   "cell_type": "markdown",
   "id": "6c013e79-eeb1-4860-81a6-f0b7bd61ea47",
   "metadata": {},
   "source": [
    "Step:1: The data given is the sample from a large dataset that affiliate to an american bank\n",
    "Currency must be equvalent from Euro to Dollars."
   ]
  },
  {
   "cell_type": "markdown",
   "id": "1052d492-f51d-4dda-83ee-303f5b05ac15",
   "metadata": {},
   "source": [
    "Step:2: Every categorical value must be quantified: you need to change every categorical column in numeric value"
   ]
  },
  {
   "cell_type": "code",
   "execution_count": 1,
   "id": "4f78a0b8-b40d-49b3-a79c-7d9b7a50cbf3",
   "metadata": {},
   "outputs": [],
   "source": [
    "import numpy as np"
   ]
  },
  {
   "cell_type": "code",
   "execution_count": 2,
   "id": "1b53945a-7f22-4ed5-9d44-804d29030bf7",
   "metadata": {},
   "outputs": [],
   "source": [
    "np.set_printoptions(suppress = True, linewidth = 100, precision = 2)"
   ]
  },
  {
   "cell_type": "code",
   "execution_count": 6,
   "id": "76b8f17c-0c4e-42d0-a8c1-b0ddc10dbc1f",
   "metadata": {},
   "outputs": [
    {
     "data": {
      "text/plain": [
       "array([[48010226.  ,         nan,    35000.  , ...,         nan,         nan,     9452.96],\n",
       "       [57693261.  ,         nan,    30000.  , ...,         nan,         nan,     4679.7 ],\n",
       "       [59432726.  ,         nan,    15000.  , ...,         nan,         nan,     1969.83],\n",
       "       ...,\n",
       "       [50415990.  ,         nan,    10000.  , ...,         nan,         nan,     2185.64],\n",
       "       [46154151.  ,         nan,         nan, ...,         nan,         nan,     3199.4 ],\n",
       "       [66055249.  ,         nan,    10000.  , ...,         nan,         nan,      301.9 ]],\n",
       "      shape=(10000, 14))"
      ]
     },
     "execution_count": 6,
     "metadata": {},
     "output_type": "execute_result"
    }
   ],
   "source": [
    "raw_data_np = np.genfromtxt(\"loan-data.csv\", delimiter= ';', skip_header = 1, autostrip=True)\n",
    "raw_data_np"
   ]
  },
  {
   "cell_type": "code",
   "execution_count": 7,
   "id": "0d418074-d690-4e02-94e5-479f484efd04",
   "metadata": {},
   "outputs": [
    {
     "data": {
      "text/plain": [
       "np.int64(88005)"
      ]
     },
     "execution_count": 7,
     "metadata": {},
     "output_type": "execute_result"
    }
   ],
   "source": [
    "np.isnan(raw_data_np).sum()"
   ]
  },
  {
   "cell_type": "code",
   "execution_count": 8,
   "id": "c531b66b-b33b-454c-9490-c114c56cc118",
   "metadata": {},
   "outputs": [
    {
     "name": "stderr",
     "output_type": "stream",
     "text": [
      "C:\\Users\\Siddh\\AppData\\Local\\Temp\\ipykernel_7064\\906659356.py:2: RuntimeWarning: Mean of empty slice\n",
      "  temporary_mean = np.nanmean(raw_data_np, axis= 0)\n"
     ]
    }
   ],
   "source": [
    "temporary_fill = np.nanmax(raw_data_np) + 1\n",
    "temporary_mean = np.nanmean(raw_data_np, axis= 0)"
   ]
  },
  {
   "cell_type": "code",
   "execution_count": 9,
   "id": "6f73ffc2-2b87-4338-a638-ccf6be904852",
   "metadata": {},
   "outputs": [
    {
     "data": {
      "text/plain": [
       "array([54015809.19,         nan,    15273.46,         nan,    15311.04,         nan,       16.62,\n",
       "            440.92,         nan,         nan,         nan,         nan,         nan,     3143.85])"
      ]
     },
     "execution_count": 9,
     "metadata": {},
     "output_type": "execute_result"
    }
   ],
   "source": [
    "temporary_mean"
   ]
  },
  {
   "cell_type": "code",
   "execution_count": 10,
   "id": "bb2b23da-5acd-4585-a0bd-18bfc57ed064",
   "metadata": {},
   "outputs": [
    {
     "name": "stderr",
     "output_type": "stream",
     "text": [
      "C:\\Users\\Siddh\\AppData\\Local\\Temp\\ipykernel_7064\\2723019954.py:1: RuntimeWarning: All-NaN slice encountered\n",
      "  temporary_stats = np.array([np.nanmin(raw_data_np, axis = 0),\n",
      "C:\\Users\\Siddh\\AppData\\Local\\Temp\\ipykernel_7064\\2723019954.py:3: RuntimeWarning: All-NaN slice encountered\n",
      "  np.nanmax(raw_data_np,axis = 0)\n"
     ]
    }
   ],
   "source": [
    "temporary_stats = np.array([np.nanmin(raw_data_np, axis = 0),\n",
    "                           temporary_mean,\n",
    "                            np.nanmax(raw_data_np,axis = 0)\n",
    "                           ])"
   ]
  },
  {
   "cell_type": "code",
   "execution_count": 11,
   "id": "416b1c99-9031-447a-a16a-87c640d56aa4",
   "metadata": {},
   "outputs": [
    {
     "data": {
      "text/plain": [
       "array([[  373332.  ,         nan,     1000.  ,         nan,     1000.  ,         nan,        6.  ,\n",
       "              31.42,         nan,         nan,         nan,         nan,         nan,        0.  ],\n",
       "       [54015809.19,         nan,    15273.46,         nan,    15311.04,         nan,       16.62,\n",
       "             440.92,         nan,         nan,         nan,         nan,         nan,     3143.85],\n",
       "       [68616519.  ,         nan,    35000.  ,         nan,    35000.  ,         nan,       28.99,\n",
       "            1372.97,         nan,         nan,         nan,         nan,         nan,    41913.62]])"
      ]
     },
     "execution_count": 11,
     "metadata": {},
     "output_type": "execute_result"
    }
   ],
   "source": [
    "temporary_stats"
   ]
  },
  {
   "cell_type": "code",
   "execution_count": 14,
   "id": "68691d5b-6d96-4d7d-8720-0e1c6343cc52",
   "metadata": {},
   "outputs": [],
   "source": [
    "column_strings = np.argwhere(np.isnan(temporary_mean)).squeeze()"
   ]
  },
  {
   "cell_type": "code",
   "execution_count": 15,
   "id": "1693809a-e959-4b4a-9ed9-11bdbea79e77",
   "metadata": {},
   "outputs": [
    {
     "data": {
      "text/plain": [
       "array([ 1,  3,  5,  8,  9, 10, 11, 12])"
      ]
     },
     "execution_count": 15,
     "metadata": {},
     "output_type": "execute_result"
    }
   ],
   "source": [
    "column_strings"
   ]
  },
  {
   "cell_type": "code",
   "execution_count": 16,
   "id": "7c7868f7-5435-41d7-bc2c-dfc6cb8f4960",
   "metadata": {},
   "outputs": [
    {
     "data": {
      "text/plain": [
       "array([ 0,  2,  4,  6,  7, 13])"
      ]
     },
     "execution_count": 16,
     "metadata": {},
     "output_type": "execute_result"
    }
   ],
   "source": [
    "column_numeric = np.argwhere(np.isnan(temporary_mean) == False).squeeze()\n",
    "column_numeric"
   ]
  },
  {
   "cell_type": "code",
   "execution_count": 20,
   "id": "2729cdc2-c3ab-4cd0-ac11-7a3073eaeb2b",
   "metadata": {},
   "outputs": [
    {
     "data": {
      "text/plain": [
       "array([['May-15', 'Current', '36 months', ..., 'Verified',\n",
       "        'https://www.lendingclub.com/browse/loanDetail.action?loan_id=48010226', 'CA'],\n",
       "       ['', 'Current', '36 months', ..., 'Source Verified',\n",
       "        'https://www.lendingclub.com/browse/loanDetail.action?loan_id=57693261', 'NY'],\n",
       "       ['Sep-15', 'Current', '36 months', ..., 'Verified',\n",
       "        'https://www.lendingclub.com/browse/loanDetail.action?loan_id=59432726', 'PA'],\n",
       "       ...,\n",
       "       ['Jun-15', 'Current', '36 months', ..., 'Source Verified',\n",
       "        'https://www.lendingclub.com/browse/loanDetail.action?loan_id=50415990', 'CA'],\n",
       "       ['Apr-15', 'Current', '36 months', ..., 'Source Verified',\n",
       "        'https://www.lendingclub.com/browse/loanDetail.action?loan_id=46154151', 'OH'],\n",
       "       ['Dec-15', 'Current', '36 months', ..., '',\n",
       "        'https://www.lendingclub.com/browse/loanDetail.action?loan_id=66055249', 'IL']],\n",
       "      shape=(10000, 8), dtype='<U69')"
      ]
     },
     "execution_count": 20,
     "metadata": {},
     "output_type": "execute_result"
    }
   ],
   "source": [
    "loan_data_strings = np.genfromtxt(\"loan-data.csv\", \n",
    "                          delimiter= ';', \n",
    "                          skip_header = 1, \n",
    "                          autostrip=True,\n",
    "                          usecols=column_strings,\n",
    "                          dtype = np.str_\n",
    "                         )\n",
    "loan_data_strings"
   ]
  },
  {
   "cell_type": "code",
   "execution_count": 22,
   "id": "30db05a2-161c-49ea-880d-e20252a2816c",
   "metadata": {},
   "outputs": [
    {
     "data": {
      "text/plain": [
       "array([[48010226.  ,    35000.  ,    35000.  ,       13.33,     1184.86,     9452.96],\n",
       "       [57693261.  ,    30000.  ,    30000.  , 68616520.  ,      938.57,     4679.7 ],\n",
       "       [59432726.  ,    15000.  ,    15000.  , 68616520.  ,      494.86,     1969.83],\n",
       "       ...,\n",
       "       [50415990.  ,    10000.  ,    10000.  , 68616520.  , 68616520.  ,     2185.64],\n",
       "       [46154151.  , 68616520.  ,    10000.  ,       16.55,      354.3 ,     3199.4 ],\n",
       "       [66055249.  ,    10000.  ,    10000.  , 68616520.  ,      309.97,      301.9 ]],\n",
       "      shape=(10000, 6))"
      ]
     },
     "execution_count": 22,
     "metadata": {},
     "output_type": "execute_result"
    }
   ],
   "source": [
    "loan_data_numeric = np.genfromtxt(\"loan-data.csv\", \n",
    "                          delimiter= ';', \n",
    "                          skip_header = 1, \n",
    "                          autostrip=True,\n",
    "                          usecols=column_numeric,\n",
    "                          filling_values= temporary_fill\n",
    "                         )\n",
    "loan_data_numeric"
   ]
  },
  {
   "cell_type": "code",
   "execution_count": 25,
   "id": "4482b441-d486-4761-8799-922adc9e2b94",
   "metadata": {},
   "outputs": [
    {
     "data": {
      "text/plain": [
       "array(['id', 'issue_d', 'loan_amnt', 'loan_status', 'funded_amnt', 'term', 'int_rate',\n",
       "       'installment', 'grade', 'sub_grade', 'verification_status', 'url', 'addr_state',\n",
       "       'total_pymnt'], dtype='<U19')"
      ]
     },
     "execution_count": 25,
     "metadata": {},
     "output_type": "execute_result"
    }
   ],
   "source": [
    "header_full = np.genfromtxt(\"loan-data.csv\", \n",
    "                          delimiter= ';', \n",
    "                          skip_footer = raw_data_np.shape[0], \n",
    "                          autostrip=True,\n",
    "                          dtype = np.str_\n",
    "                           )\n",
    "header_full"
   ]
  },
  {
   "cell_type": "code",
   "execution_count": 26,
   "id": "7aa2f303-7140-425c-96ef-6304e78fcdb1",
   "metadata": {},
   "outputs": [],
   "source": [
    "header_strings, header_numeric = header_full[column_strings], header_full[column_numeric]"
   ]
  },
  {
   "cell_type": "code",
   "execution_count": 27,
   "id": "1e4a18e0-b762-4c72-ae28-5bd9c28f98e8",
   "metadata": {},
   "outputs": [
    {
     "data": {
      "text/plain": [
       "array(['issue_d', 'loan_status', 'term', 'grade', 'sub_grade', 'verification_status', 'url',\n",
       "       'addr_state'], dtype='<U19')"
      ]
     },
     "execution_count": 27,
     "metadata": {},
     "output_type": "execute_result"
    }
   ],
   "source": [
    "header_strings"
   ]
  },
  {
   "cell_type": "code",
   "execution_count": 28,
   "id": "c150fda2-32e4-4933-b493-652368a945bf",
   "metadata": {},
   "outputs": [
    {
     "data": {
      "text/plain": [
       "array(['id', 'loan_amnt', 'funded_amnt', 'int_rate', 'installment', 'total_pymnt'], dtype='<U19')"
      ]
     },
     "execution_count": 28,
     "metadata": {},
     "output_type": "execute_result"
    }
   ],
   "source": [
    "header_numeric"
   ]
  },
  {
   "cell_type": "code",
   "execution_count": 29,
   "id": "8e4ad336-5bc7-43b0-9412-4a153b6cf79a",
   "metadata": {},
   "outputs": [],
   "source": [
    "def checkpoint(file_name, checkpoint_header, checkpoint_data):\n",
    "    np.savez(file=file_name, header = checkpoint_header, data = checkpoint_data)\n",
    "    checkpoint_variable = np.load(file_name + \".npz\")\n",
    "    return checkpoint_variable"
   ]
  },
  {
   "cell_type": "code",
   "execution_count": 30,
   "id": "703e7b7a-bb08-490e-90d1-055247ff6b50",
   "metadata": {},
   "outputs": [],
   "source": [
    "checkpoint_test = checkpoint(\"checkpoint_test\",header_strings,loan_data_strings)"
   ]
  },
  {
   "cell_type": "code",
   "execution_count": 32,
   "id": "fcc58609-58ed-4d2d-b57f-6c5438f54940",
   "metadata": {},
   "outputs": [
    {
     "data": {
      "text/plain": [
       "array([['May-15', 'Current', '36 months', ..., 'Verified',\n",
       "        'https://www.lendingclub.com/browse/loanDetail.action?loan_id=48010226', 'CA'],\n",
       "       ['', 'Current', '36 months', ..., 'Source Verified',\n",
       "        'https://www.lendingclub.com/browse/loanDetail.action?loan_id=57693261', 'NY'],\n",
       "       ['Sep-15', 'Current', '36 months', ..., 'Verified',\n",
       "        'https://www.lendingclub.com/browse/loanDetail.action?loan_id=59432726', 'PA'],\n",
       "       ...,\n",
       "       ['Jun-15', 'Current', '36 months', ..., 'Source Verified',\n",
       "        'https://www.lendingclub.com/browse/loanDetail.action?loan_id=50415990', 'CA'],\n",
       "       ['Apr-15', 'Current', '36 months', ..., 'Source Verified',\n",
       "        'https://www.lendingclub.com/browse/loanDetail.action?loan_id=46154151', 'OH'],\n",
       "       ['Dec-15', 'Current', '36 months', ..., '',\n",
       "        'https://www.lendingclub.com/browse/loanDetail.action?loan_id=66055249', 'IL']],\n",
       "      shape=(10000, 8), dtype='<U69')"
      ]
     },
     "execution_count": 32,
     "metadata": {},
     "output_type": "execute_result"
    }
   ],
   "source": [
    "checkpoint_test['data']"
   ]
  },
  {
   "cell_type": "code",
   "execution_count": 35,
   "id": "d9a17818-6bde-439a-b687-de6c4cb30ab5",
   "metadata": {},
   "outputs": [
    {
     "data": {
      "text/plain": [
       "array(['issue_d', 'loan_status', 'term', 'grade', 'sub_grade', 'verification_status', 'url',\n",
       "       'addr_state'], dtype='<U19')"
      ]
     },
     "execution_count": 35,
     "metadata": {},
     "output_type": "execute_result"
    }
   ],
   "source": [
    "header_strings"
   ]
  },
  {
   "cell_type": "code",
   "execution_count": 36,
   "id": "86c0431b-13ff-4821-84a5-eddeaa282096",
   "metadata": {},
   "outputs": [],
   "source": [
    "header_strings[0] = 'issue_date'"
   ]
  },
  {
   "cell_type": "code",
   "execution_count": 37,
   "id": "ce3379f1-b9c2-4455-a47a-9359a7435df9",
   "metadata": {},
   "outputs": [
    {
     "data": {
      "text/plain": [
       "array([['May-15', 'Current', '36 months', ..., 'Verified',\n",
       "        'https://www.lendingclub.com/browse/loanDetail.action?loan_id=48010226', 'CA'],\n",
       "       ['', 'Current', '36 months', ..., 'Source Verified',\n",
       "        'https://www.lendingclub.com/browse/loanDetail.action?loan_id=57693261', 'NY'],\n",
       "       ['Sep-15', 'Current', '36 months', ..., 'Verified',\n",
       "        'https://www.lendingclub.com/browse/loanDetail.action?loan_id=59432726', 'PA'],\n",
       "       ...,\n",
       "       ['Jun-15', 'Current', '36 months', ..., 'Source Verified',\n",
       "        'https://www.lendingclub.com/browse/loanDetail.action?loan_id=50415990', 'CA'],\n",
       "       ['Apr-15', 'Current', '36 months', ..., 'Source Verified',\n",
       "        'https://www.lendingclub.com/browse/loanDetail.action?loan_id=46154151', 'OH'],\n",
       "       ['Dec-15', 'Current', '36 months', ..., '',\n",
       "        'https://www.lendingclub.com/browse/loanDetail.action?loan_id=66055249', 'IL']],\n",
       "      shape=(10000, 8), dtype='<U69')"
      ]
     },
     "execution_count": 37,
     "metadata": {},
     "output_type": "execute_result"
    }
   ],
   "source": [
    "loan_data_strings"
   ]
  },
  {
   "cell_type": "code",
   "execution_count": 38,
   "id": "1805bce3-8315-47af-ab9a-9384e8edc117",
   "metadata": {},
   "outputs": [
    {
     "data": {
      "text/plain": [
       "array(['May-15', '', 'Sep-15', ..., 'Jun-15', 'Apr-15', 'Dec-15'], shape=(10000,), dtype='<U69')"
      ]
     },
     "execution_count": 38,
     "metadata": {},
     "output_type": "execute_result"
    }
   ],
   "source": [
    "loan_data_strings[:,0]"
   ]
  },
  {
   "cell_type": "code",
   "execution_count": 39,
   "id": "e978bbb3-c87d-4cbd-b340-f44796b13a0f",
   "metadata": {},
   "outputs": [
    {
     "data": {
      "text/plain": [
       "array(['', 'Apr-15', 'Aug-15', 'Dec-15', 'Feb-15', 'Jan-15', 'Jul-15', 'Jun-15', 'Mar-15',\n",
       "       'May-15', 'Nov-15', 'Oct-15', 'Sep-15'], dtype='<U69')"
      ]
     },
     "execution_count": 39,
     "metadata": {},
     "output_type": "execute_result"
    }
   ],
   "source": [
    "np.unique(loan_data_strings[:,0])"
   ]
  },
  {
   "cell_type": "code",
   "execution_count": null,
   "id": "43e0f202-1976-49cd-9548-a6eaae1803df",
   "metadata": {},
   "outputs": [],
   "source": []
  },
  {
   "cell_type": "code",
   "execution_count": null,
   "id": "fca71344-8216-49c3-b870-d4d38f9b5429",
   "metadata": {},
   "outputs": [],
   "source": []
  },
  {
   "cell_type": "code",
   "execution_count": null,
   "id": "de06485e-08f7-43b3-b5cc-61f69e23e2de",
   "metadata": {},
   "outputs": [],
   "source": []
  },
  {
   "cell_type": "code",
   "execution_count": null,
   "id": "15d30041-de83-4564-a0b1-f5980e9b1eca",
   "metadata": {},
   "outputs": [],
   "source": []
  },
  {
   "cell_type": "code",
   "execution_count": null,
   "id": "d2e9f933-6ef5-4db9-98fd-a80ad4deed20",
   "metadata": {},
   "outputs": [],
   "source": []
  }
 ],
 "metadata": {
  "kernelspec": {
   "display_name": "Python 3 (ipykernel)",
   "language": "python",
   "name": "python3"
  },
  "language_info": {
   "codemirror_mode": {
    "name": "ipython",
    "version": 3
   },
   "file_extension": ".py",
   "mimetype": "text/x-python",
   "name": "python",
   "nbconvert_exporter": "python",
   "pygments_lexer": "ipython3",
   "version": "3.13.3"
  }
 },
 "nbformat": 4,
 "nbformat_minor": 5
}
